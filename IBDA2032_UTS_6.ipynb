{
 "cells": [
  {
   "cell_type": "markdown",
   "id": "11097c9f",
   "metadata": {},
   "source": [
    "# Klasifikasi Multikelas Menggunakan Random Forest Classifier\n",
    "Kelompok 6\n",
    "- Elisabeth Violina (IBDA 2021/212100693)\n",
    "- Jessica Ong (IBDA 2020/202000204)\n",
    "- Juan Christian Chandra (IBDA 2021/212100108)"
   ]
  },
  {
   "attachments": {},
   "cell_type": "markdown",
   "metadata": {
    "collapsed": false
   },
   "source": [
    "### Masalah yang Dihadapi\n",
    "Masalah yang ingin diselesaikan yaitu bagaimana memprediksi jika seorang nasabah akan bertahan di suatu bank atau tidak. Dalam hal ini akan dilakukan analisis terhadap data nasabah yang telah menjadi nasabah selama beberapa waktu untuk menentukan faktor-faktor yang mempengaruhi keputusan nasabah untuk tetap menjadi nasabah atau keluar dari bank."
   ]
  },
  {
   "attachments": {},
   "cell_type": "markdown",
   "metadata": {
    "collapsed": false
   },
   "source": [
    "### Data yang Dipilih\n",
    "\n",
    "Data yang dipilih yaitu dataset __Churn Modelling__ dari kaggle.com yang berisi berbagai informasi dari nasabah bank yang masih aktif sebagai nasabah dari suatu bank dan nasabah-nasabah yang sudah keluar."
   ]
  },
  {
   "attachments": {},
   "cell_type": "markdown",
   "metadata": {
    "collapsed": false
   },
   "source": [
    "### Algoritma yang Digunakan\n",
    "Algoritma yang digunakan yaitu Classification, karena untuk kasus churn modelling dibutuhkan algoritma untuk memprediksi apakah nasabah akan tetap menjadi nasabah atau keluar dari bank.\n"
   ]
  },
  {
   "cell_type": "code",
   "execution_count": 13,
   "id": "1ee10a13",
   "metadata": {},
   "outputs": [],
   "source": [
    "# import library yang dibutuhkan\n",
    "import pandas as pd\n",
    "import numpy as np\n",
    "import matplotlib.pyplot as plt\n",
    "import seaborn as sns\n",
    "\n",
    "from sklearn.model_selection import train_test_split\n",
    "from sklearn.preprocessing import StandardScaler\n",
    "from sklearn.ensemble import RandomForestClassifier\n",
    "from sklearn.metrics import confusion_matrix, classification_report"
   ]
  },
  {
   "cell_type": "markdown",
   "id": "8ff6dce5",
   "metadata": {},
   "source": [
    "### Memuat Dataset"
   ]
  },
  {
   "cell_type": "code",
   "execution_count": 14,
   "id": "b31c641c",
   "metadata": {},
   "outputs": [
    {
     "name": "stdout",
     "output_type": "stream",
     "text": [
      "      RowNumber  CustomerId    Surname  CreditScore Geography  Gender  Age  \\\n",
      "0             1    15634602   Hargrave          619    France  Female   42   \n",
      "1             2    15647311       Hill          608     Spain  Female   41   \n",
      "2             3    15619304       Onio          502    France  Female   42   \n",
      "3             4    15701354       Boni          699    France  Female   39   \n",
      "4             5    15737888   Mitchell          850     Spain  Female   43   \n",
      "...         ...         ...        ...          ...       ...     ...  ...   \n",
      "9995       9996    15606229   Obijiaku          771    France    Male   39   \n",
      "9996       9997    15569892  Johnstone          516    France    Male   35   \n",
      "9997       9998    15584532        Liu          709    France  Female   36   \n",
      "9998       9999    15682355  Sabbatini          772   Germany    Male   42   \n",
      "9999      10000    15628319     Walker          792    France  Female   28   \n",
      "\n",
      "      Tenure    Balance  NumOfProducts  HasCrCard  IsActiveMember  \\\n",
      "0          2       0.00              1          1               1   \n",
      "1          1   83807.86              1          0               1   \n",
      "2          8  159660.80              3          1               0   \n",
      "3          1       0.00              2          0               0   \n",
      "4          2  125510.82              1          1               1   \n",
      "...      ...        ...            ...        ...             ...   \n",
      "9995       5       0.00              2          1               0   \n",
      "9996      10   57369.61              1          1               1   \n",
      "9997       7       0.00              1          0               1   \n",
      "9998       3   75075.31              2          1               0   \n",
      "9999       4  130142.79              1          1               0   \n",
      "\n",
      "      EstimatedSalary  Exited  \n",
      "0           101348.88       1  \n",
      "1           112542.58       0  \n",
      "2           113931.57       1  \n",
      "3            93826.63       0  \n",
      "4            79084.10       0  \n",
      "...               ...     ...  \n",
      "9995         96270.64       0  \n",
      "9996        101699.77       0  \n",
      "9997         42085.58       1  \n",
      "9998         92888.52       1  \n",
      "9999         38190.78       0  \n",
      "\n",
      "[10000 rows x 14 columns]\n"
     ]
    }
   ],
   "source": [
    "# load dataset\n",
    "df = pd.read_csv('Churn_Modelling.csv')\n",
    "\n",
    "# eksplorasi data\n",
    "print(df)"
   ]
  },
  {
   "cell_type": "markdown",
   "id": "79f34dfc",
   "metadata": {},
   "source": [
    "### Memilih Data-Data Yang Akan Digunakan"
   ]
  },
  {
   "cell_type": "code",
   "execution_count": 15,
   "id": "f78c4931",
   "metadata": {},
   "outputs": [
    {
     "name": "stdout",
     "output_type": "stream",
     "text": [
      "   index  Exited\n",
      "0      0  0.7963\n",
      "1      1  0.2037\n"
     ]
    }
   ],
   "source": [
    "# memilih data-data yang akan digunakan\n",
    "X = df.iloc[:, 3:13]\n",
    "y = df.iloc[:, 13]\n",
    "\n",
    "# Mengecek apakah data cukup seimbang\n",
    "density = y.value_counts(normalize=True).reset_index()\n",
    "print(density)"
   ]
  },
  {
   "cell_type": "markdown",
   "id": "a2ecee04",
   "metadata": {},
   "source": [
    "Dari output tersebut dapat kita lihat bahwa nasabah yang keluar sebesar 20,37% dan nasabah yang tidak keluar sebesar 79,63%. Dengan kata lain, data ini tidak seimbang atau berat sebelah."
   ]
  },
  {
   "cell_type": "markdown",
   "id": "2df1182e",
   "metadata": {},
   "source": [
    "### Mengolah Data Non-Numerik Menjadi Data Numerik"
   ]
  },
  {
   "cell_type": "code",
   "execution_count": 16,
   "id": "fb5158f7",
   "metadata": {},
   "outputs": [
    {
     "name": "stdout",
     "output_type": "stream",
     "text": [
      "      CreditScore  Age  Tenure    Balance  NumOfProducts  HasCrCard  \\\n",
      "0             619   42       2       0.00              1          1   \n",
      "1             608   41       1   83807.86              1          0   \n",
      "2             502   42       8  159660.80              3          1   \n",
      "3             699   39       1       0.00              2          0   \n",
      "4             850   43       2  125510.82              1          1   \n",
      "...           ...  ...     ...        ...            ...        ...   \n",
      "9995          771   39       5       0.00              2          1   \n",
      "9996          516   35      10   57369.61              1          1   \n",
      "9997          709   36       7       0.00              1          0   \n",
      "9998          772   42       3   75075.31              2          1   \n",
      "9999          792   28       4  130142.79              1          1   \n",
      "\n",
      "      IsActiveMember  EstimatedSalary  Germany  Spain  Male  \n",
      "0                  1        101348.88        0      0     0  \n",
      "1                  1        112542.58        0      1     0  \n",
      "2                  0        113931.57        0      0     0  \n",
      "3                  0         93826.63        0      0     0  \n",
      "4                  1         79084.10        0      1     0  \n",
      "...              ...              ...      ...    ...   ...  \n",
      "9995               0         96270.64        0      0     1  \n",
      "9996               1        101699.77        0      0     1  \n",
      "9997               1         42085.58        0      0     0  \n",
      "9998               0         92888.52        1      0     1  \n",
      "9999               0         38190.78        0      0     0  \n",
      "\n",
      "[10000 rows x 11 columns]\n"
     ]
    }
   ],
   "source": [
    "# Mengubah data Geography dan Gender menjadi numerik\n",
    "geography = pd.get_dummies(X['Geography'], drop_first=True)\n",
    "gender = pd.get_dummies(X['Gender'], drop_first=True)\n",
    "\n",
    "# menggabungkan data-data yang sudah di-preprocessing\n",
    "X = pd.concat([X, geography, gender], axis=1)\n",
    "\n",
    "# menghapus data yang sudah tidak diperlukan\n",
    "X = X.drop(['Geography', 'Gender'], axis=1)\n",
    "\n",
    "print(X)"
   ]
  },
  {
   "cell_type": "markdown",
   "id": "81718c1b",
   "metadata": {},
   "source": [
    "### Mempersiapkan Data Latih dan Data Uji"
   ]
  },
  {
   "cell_type": "code",
   "execution_count": 17,
   "id": "c534e8de",
   "metadata": {},
   "outputs": [],
   "source": [
    "# membagi data menjadi training dan testing set\n",
    "X_train, X_test, y_train, y_test = train_test_split(X, y, test_size=0.2, random_state=0)"
   ]
  },
  {
   "cell_type": "markdown",
   "id": "e437c74c",
   "metadata": {},
   "source": [
    "### Melakukan Scaling Pada Data"
   ]
  },
  {
   "cell_type": "code",
   "execution_count": 18,
   "id": "ae73c7ff",
   "metadata": {},
   "outputs": [],
   "source": [
    "# melakukan scaling pada data numerik\n",
    "scaler = StandardScaler()\n",
    "X_train[['CreditScore', 'Age', 'Tenure', 'Balance', 'NumOfProducts', 'EstimatedSalary']] = scaler.fit_transform(X_train[['CreditScore', 'Age', 'Tenure', 'Balance', 'NumOfProducts', 'EstimatedSalary']])\n",
    "X_test[['CreditScore', 'Age', 'Tenure', 'Balance', 'NumOfProducts', 'EstimatedSalary']] = scaler.transform(X_test[['CreditScore', 'Age', 'Tenure', 'Balance', 'NumOfProducts', 'EstimatedSalary']])"
   ]
  },
  {
   "cell_type": "markdown",
   "id": "0ffb6dc6",
   "metadata": {},
   "source": [
    "### Membangun Model Klasifikasi"
   ]
  },
  {
   "cell_type": "code",
   "execution_count": 19,
   "id": "59ded536",
   "metadata": {},
   "outputs": [],
   "source": [
    "# Define the classifier\n",
    "classifier = RandomForestClassifier(random_state=0)\n",
    "\n",
    "# Performing the model building\n",
    "classifier.fit(X_train, y_train)\n",
    "\n",
    "# melakukan prediksi pada data testing\n",
    "y_pred = classifier.predict(X_test)"
   ]
  },
  {
   "cell_type": "markdown",
   "id": "4388f9ef",
   "metadata": {},
   "source": [
    "### Membuat Confusion Matrix"
   ]
  },
  {
   "cell_type": "code",
   "execution_count": 20,
   "id": "a1a1fd1d",
   "metadata": {},
   "outputs": [
    {
     "data": {
      "image/png": "[encoded data removed]",
      "text/plain": [
       "<Figure size 640x480 with 2 Axes>"
      ]
     },
     "metadata": {},
     "output_type": "display_data"
    }
   ],
   "source": [
    "# Fungsi untuk menghitung confusion matrix\n",
    "cnf_matrix = confusion_matrix(y_test, y_pred)\n",
    "\n",
    "### Berikut merupakan kode untuk memproduksi heatmap visualisasi confusion matrix\n",
    "\n",
    "# Tuliskan label dari masing-masing kelas sesuai urutan\n",
    "class_names= [\"Tidak Keluar (0)\", \"Keluar (1)\"]\n",
    "\n",
    "# Membangun heatmap\n",
    "fig, ax = plt.subplots()\n",
    "sns.heatmap(pd.DataFrame(cnf_matrix), annot=True, cmap=\"YlGnBu\" ,fmt='g')\n",
    "ax.xaxis.set_label_position(\"top\")\n",
    "tick_marks = np.arange(len(class_names))\n",
    "plt.xticks(tick_marks, class_names, ha=\"left\")\n",
    "plt.yticks(tick_marks, class_names, rotation='horizontal')\n",
    "plt.tight_layout()\n",
    "plt.title('Confusion matrix', y=1.1)\n",
    "plt.ylabel('Actual label')\n",
    "plt.xlabel('Predicted label')\n",
    "plt.show()"
   ]
  },
  {
   "cell_type": "markdown",
   "id": "0ec0ac83",
   "metadata": {},
   "source": [
    "### Menampilkan Ukuran Performansi Klasifikasi"
   ]
  },
  {
   "cell_type": "code",
   "execution_count": 21,
   "id": "f627ac8b",
   "metadata": {},
   "outputs": [
    {
     "name": "stdout",
     "output_type": "stream",
     "text": [
      "Classification Report\n",
      "              precision    recall  f1-score   support\n",
      "\n",
      "           0       0.89      0.95      0.92      1595\n",
      "           1       0.75      0.52      0.61       405\n",
      "\n",
      "    accuracy                           0.87      2000\n",
      "   macro avg       0.82      0.74      0.77      2000\n",
      "weighted avg       0.86      0.87      0.86      2000\n",
      "\n",
      "\n"
     ]
    }
   ],
   "source": [
    "print(f\"Classification Report\\n{classification_report(y_test, y_pred)}\\n\")"
   ]
  },
  {
   "cell_type": "markdown",
   "id": "bc0d38d7",
   "metadata": {},
   "source": [
    "### Kesimpulan"
   ]
  },
  {
   "attachments": {},
   "cell_type": "markdown",
   "id": "ddd169b6",
   "metadata": {},
   "source": [
    "Berdasarkan hasil penggunaan algoritma random forest classifier untuk memprediksi apakah nasabah akan berhenti menggunakan jasa bank, didapatkan hasil yang cukup baik dengan akurasi sebesar 0.87. Dalam classification report, precision untuk kelas 0 (nasabah yang akan tetap berlangganan) adalah 0.89, sedangkan untuk kelas 1 (nasabah yang tidak lagi menggunakan jasa bank) adalah 0.75. Recall untuk kelas 0 adalah 0.95 dan kelas 1 adalah 0.52. F1-score untuk kelas 0 adalah 0.92 dan kelas 1 adalah 0.61. Dapat disimpulkan bahwa algoritma ini lebih baik dalam memprediksi nasabah yang akan tetap berlangganan dibandingkan dengan nasabah yang tidak lagi menggunakan jasa bank. Selain itu, meskipun akurasi cukup tinggi, recall untuk kelas 1 masih perlu ditingkatkan."
   ]
  },
  {
   "cell_type": "markdown",
   "id": "54237fe9",
   "metadata": {},
   "source": [
    "## Melakukan Prediksi Setelah Data Diseimbangkan"
   ]
  },
  {
   "cell_type": "code",
   "execution_count": 22,
   "id": "7ed34358",
   "metadata": {},
   "outputs": [],
   "source": [
    "# import library yang dibutuhkan untuk menyeimbangkan data\n",
    "from imblearn.over_sampling import SMOTE"
   ]
  },
  {
   "cell_type": "markdown",
   "id": "e48e6101",
   "metadata": {},
   "source": [
    "### Menyeimbangkan Data"
   ]
  },
  {
   "cell_type": "code",
   "execution_count": 23,
   "id": "defa0052",
   "metadata": {},
   "outputs": [
    {
     "name": "stdout",
     "output_type": "stream",
     "text": [
      "   index  Exited\n",
      "0      1     0.5\n",
      "1      0     0.5\n"
     ]
    }
   ],
   "source": [
    "# menyeimbangkan data\n",
    "sm = SMOTE(random_state=42)\n",
    "X, y = sm.fit_resample(X, y)\n",
    "\n",
    "# Mengecek apakah data sudah seimbang\n",
    "density = y.value_counts(normalize=True).reset_index()\n",
    "print(density)"
   ]
  },
  {
   "cell_type": "markdown",
   "id": "44fbe918",
   "metadata": {},
   "source": [
    "### Mempersiapkan Data Latih dan Data Uji"
   ]
  },
  {
   "cell_type": "code",
   "execution_count": 24,
   "id": "73a16050",
   "metadata": {},
   "outputs": [],
   "source": [
    "# membagi data menjadi training dan testing set\n",
    "X_train, X_test, y_train, y_test = train_test_split(X, y, test_size=0.2, random_state=0)"
   ]
  },
  {
   "cell_type": "markdown",
   "id": "e45a212b",
   "metadata": {},
   "source": [
    "### Melakukan Scaling Pada Data"
   ]
  },
  {
   "cell_type": "code",
   "execution_count": 25,
   "id": "ddccfa64",
   "metadata": {},
   "outputs": [],
   "source": [
    "# melakukan scaling pada data numerik\n",
    "scaler = StandardScaler()\n",
    "X_train[['CreditScore', 'Age', 'Tenure', 'Balance', 'NumOfProducts', 'EstimatedSalary']] = scaler.fit_transform(X_train[['CreditScore', 'Age', 'Tenure', 'Balance', 'NumOfProducts', 'EstimatedSalary']])\n",
    "X_test[['CreditScore', 'Age', 'Tenure', 'Balance', 'NumOfProducts', 'EstimatedSalary']] = scaler.transform(X_test[['CreditScore', 'Age', 'Tenure', 'Balance', 'NumOfProducts', 'EstimatedSalary']])"
   ]
  },
  {
   "cell_type": "markdown",
   "id": "8a4c9c6f",
   "metadata": {},
   "source": [
    "### Membangun Model Klasifikasi"
   ]
  },
  {
   "cell_type": "code",
   "execution_count": 26,
   "id": "2459c772",
   "metadata": {},
   "outputs": [],
   "source": [
    "# Define the classifier\n",
    "classifier = RandomForestClassifier(random_state=0)\n",
    "\n",
    "# Performing the model building\n",
    "classifier.fit(X_train, y_train)\n",
    "\n",
    "# melakukan prediksi pada data testing\n",
    "y_pred = classifier.predict(X_test)"
   ]
  },
  {
   "cell_type": "markdown",
   "id": "b6a43077",
   "metadata": {},
   "source": [
    "### Membuat Confusion Matrix"
   ]
  },
  {
   "cell_type": "code",
   "execution_count": 27,
   "id": "15c34745",
   "metadata": {},
   "outputs": [
    {
     "data": {
      "image/png": "[encoded data removed]",
      "text/plain": [
       "<Figure size 640x480 with 2 Axes>"
      ]
     },
     "metadata": {},
     "output_type": "display_data"
    }
   ],
   "source": [
    "# Fungsi untuk menghitung confusion matrix\n",
    "cnf_matrix = confusion_matrix(y_test, y_pred)\n",
    "\n",
    "### Berikut merupakan kode untuk memproduksi heatmap visualisasi confusion matrix\n",
    "\n",
    "# Tuliskan label dari masing-masing kelas sesuai urutan\n",
    "class_names= [\"Tidak Keluar (0)\", \"Keluar (1)\"]\n",
    "\n",
    "# Membangun heatmap\n",
    "fig, ax = plt.subplots()\n",
    "sns.heatmap(pd.DataFrame(cnf_matrix), annot=True, cmap=\"YlGnBu\" ,fmt='g')\n",
    "ax.xaxis.set_label_position(\"top\")\n",
    "tick_marks = np.arange(len(class_names))\n",
    "plt.xticks(tick_marks, class_names, ha=\"left\")\n",
    "plt.yticks(tick_marks, class_names, rotation='horizontal')\n",
    "plt.tight_layout()\n",
    "plt.title('Confusion matrix', y=1.1)\n",
    "plt.ylabel('Actual label')\n",
    "plt.xlabel('Predicted label')\n",
    "plt.show()"
   ]
  },
  {
   "cell_type": "markdown",
   "id": "cda1db84",
   "metadata": {},
   "source": [
    "### Menampilkan Ukuran Performansi Klasifikasi"
   ]
  },
  {
   "cell_type": "code",
   "execution_count": 28,
   "id": "5bca5626",
   "metadata": {},
   "outputs": [
    {
     "name": "stdout",
     "output_type": "stream",
     "text": [
      "Classification Report\n",
      "              precision    recall  f1-score   support\n",
      "\n",
      "           0       0.86      0.86      0.86      1590\n",
      "           1       0.86      0.86      0.86      1596\n",
      "\n",
      "    accuracy                           0.86      3186\n",
      "   macro avg       0.86      0.86      0.86      3186\n",
      "weighted avg       0.86      0.86      0.86      3186\n",
      "\n",
      "\n"
     ]
    }
   ],
   "source": [
    "print(f\"Classification Report\\n{classification_report(y_test, y_pred)}\\n\")"
   ]
  },
  {
   "cell_type": "markdown",
   "id": "fd495d4c",
   "metadata": {},
   "source": [
    "### Kesimpulan Akhir"
   ]
  },
  {
   "attachments": {},
   "cell_type": "markdown",
   "id": "8265afbc",
   "metadata": {},
   "source": [
    "Dalam perbandingan hasil antara dua classification report, terlihat bahwa kedua algoritma memiliki akurasi yang relatif sama, yaitu sekitar 0.86 - 0.87. Namun, terdapat perbedaan pada precision, recall, dan f1-score pada masing-masing kelas.\n",
    "\n",
    "Pada hasil pertama, algoritma random forest classifier memiliki precision yang lebih tinggi untuk kelas 0 (0.89) dibandingkan dengan kelas 1 (0.75). Namun, recall untuk kelas 1 (0.52) lebih rendah dibandingkan dengan kelas 0 (0.95). Sedangkan pada hasil kedua, algoritma memiliki precision, recall, dan f1-score yang hampir sama untuk kedua kelas.\n",
    "\n",
    "Berdasarkan hasil tersebut, dapat disimpulkan bahwa algoritma random forest classifier pada hasil pertama lebih baik dalam memprediksi nasabah yang akan tetap berlangganan dibandingkan dengan nasabah yang tidak lagi menggunakan jasa bank. Namun, pada hasil kedua, algoritma memiliki performa yang lebih seimbang dalam memprediksi kedua kelas.\n",
    "\n",
    "Lalu, secara data, dapat diketahui bahwa banyaknya nasabah yang diprediksi tidak keluar dari bank adalah sebanyak 1590 orang dan banyaknya nasabah yang diprediksi akan keluar dari bank adalah sebanyak 1596 orang. "
   ]
  },
  {
   "cell_type": "markdown",
   "id": "81f34be0",
   "metadata": {},
   "source": []
  },
  {
   "attachments": {},
   "cell_type": "markdown",
   "id": "0abb2917",
   "metadata": {},
   "source": [
    "## Tambahan Perbandingan antara Logistic Regression dan Random Forest Classifier"
   ]
  },
  {
   "cell_type": "code",
   "execution_count": 29,
   "id": "36837562",
   "metadata": {},
   "outputs": [
    {
     "name": "stdout",
     "output_type": "stream",
     "text": [
      "Accuracy Logistic Regression: 0.789\n"
     ]
    }
   ],
   "source": [
    "#Logistic Regression\n",
    "import pandas as pd\n",
    "from sklearn.model_selection import train_test_split\n",
    "from sklearn.linear_model import LogisticRegression\n",
    "from sklearn.metrics import accuracy_score\n",
    "from sklearn.compose import ColumnTransformer\n",
    "from sklearn.preprocessing import OneHotEncoder\n",
    "\n",
    "# Load dataset\n",
    "data = pd.read_csv('Churn_Modelling.csv')\n",
    "\n",
    "# Select features and target\n",
    "X = data.iloc[:, 3:13]\n",
    "y = data.iloc[:, 13]\n",
    "\n",
    "# Encoding categorical data\n",
    "ct = ColumnTransformer(transformers=[('encoder', OneHotEncoder(), [1, 2])], remainder='passthrough')\n",
    "X = ct.fit_transform(X)\n",
    "\n",
    "# Split dataset into training and testing sets\n",
    "X_train, X_test, y_train, y_test = train_test_split(X, y, test_size=0.2, random_state=0)\n",
    "\n",
    "# Fit logistic regression model to training set\n",
    "classifier = LogisticRegression(random_state=0)\n",
    "classifier.fit(X_train, y_train)\n",
    "\n",
    "# Predict test set results and calculate accuracy\n",
    "y_pred = classifier.predict(X_test)\n",
    "accuracy = accuracy_score(y_test, y_pred)\n",
    "\n",
    "print(\"Accuracy Logistic Regression:\", accuracy)\n"
   ]
  },
  {
   "cell_type": "code",
   "execution_count": 30,
   "id": "048ee807",
   "metadata": {},
   "outputs": [
    {
     "name": "stdout",
     "output_type": "stream",
     "text": [
      "Accuracy Random Forest Classifier: 0.8655\n"
     ]
    }
   ],
   "source": [
    "#Random Forest Classifier\n",
    "import pandas as pd\n",
    "from sklearn.model_selection import train_test_split\n",
    "from sklearn.ensemble import RandomForestClassifier\n",
    "from sklearn.metrics import accuracy_score\n",
    "\n",
    "# Load dataset\n",
    "data = pd.read_csv('Churn_Modelling.csv')\n",
    "\n",
    "# Select features and target\n",
    "X = data.iloc[:, 3:13].values\n",
    "y = data.iloc[:, 13].values\n",
    "\n",
    "# Encoding categorical data\n",
    "ct = ColumnTransformer(transformers=[('encoder', OneHotEncoder(), [1, 2])], remainder='passthrough')\n",
    "X = ct.fit_transform(X)\n",
    "\n",
    "# Split dataset into training and testing sets\n",
    "X_train, X_test, y_train, y_test = train_test_split(X, y, test_size=0.2, random_state=0)\n",
    "\n",
    "# Fit random forest classifier to training set\n",
    "classifier = RandomForestClassifier(n_estimators=100, random_state=0)\n",
    "classifier.fit(X_train, y_train)\n",
    "\n",
    "# Predict test set results and calculate accuracy\n",
    "y_pred = classifier.predict(X_test)\n",
    "accuracy = accuracy_score(y_test, y_pred)\n",
    "\n",
    "print(\"Accuracy Random Forest Classifier:\", accuracy)\n"
   ]
  },
  {
   "attachments": {},
   "cell_type": "markdown",
   "id": "c1f739b2",
   "metadata": {},
   "source": [
    "### Kesimpulan Tambahan \n",
    "Algoritma yang menggunakan Logistic Regression memiliki akurasi yang lebih rendah jika dibandingkan dengan Random Forest Classifier. Oleh sebab itu, kami akhirnya lebih memilih Random Forest Classifier dibandinigkan Logistic Regression."
   ]
  },
  {
   "cell_type": "markdown",
   "id": "7ebd1469",
   "metadata": {},
   "source": [
    "## Komitmen Integritas\n",
    "Di hadapan TUHAN yang hidup, saya menegaskan bahwa saya tidak memberikan maupun\n",
    "menerima bantuan apapun—baik lisan, tulisan, maupun elektronik—di dalam ujian ini selain\n",
    "daripada apa yang telah diizinkan oleh pengajar, dan tidak akan menyebarkan baik soal\n",
    "maupun jawaban ujian kepada pihak lain."
   ]
  },
  {
   "cell_type": "markdown",
   "metadata": {
    "collapsed": false
   },
   "source": [
    "### Link Github\n",
    "https://github.com/kelompok6ai/uts"
   ]
  }
 ],
 "metadata": {
  "kernelspec": {
   "display_name": "Python 3 (ipykernel)",
   "language": "python",
   "name": "python3"
  },
  "language_info": {
   "codemirror_mode": {
    "name": "ipython",
    "version": 3
   },
   "file_extension": ".py",
   "mimetype": "text/x-python",
   "name": "python",
   "nbconvert_exporter": "python",
   "pygments_lexer": "ipython3",
   "version": "3.10.1"
  }
 },
 "nbformat": 4,
 "nbformat_minor": 5
}
